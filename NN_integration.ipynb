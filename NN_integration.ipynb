{
 "cells": [
  {
   "cell_type": "code",
   "execution_count": 65,
   "id": "775102f9-4992-4871-863f-fbc35543241f",
   "metadata": {},
   "outputs": [],
   "source": [
    "import torch\n",
    "import torch.nn as nn\n",
    "import numpy as np\n",
    "import matplotlib.pyplot as plt\n",
    "import time\n",
    "from scipy.integrate import quad"
   ]
  },
  {
   "cell_type": "markdown",
   "id": "96039f59-5b23-44c5-9d12-4bdbefd7b06e",
   "metadata": {},
   "source": [
    "## Defining the integrand function and the integral function"
   ]
  },
  {
   "cell_type": "code",
   "execution_count": 81,
   "id": "69c941c5-8643-4b8b-ba11-0a27432cc2cf",
   "metadata": {},
   "outputs": [],
   "source": [
    "#integrand = lambda x: np.sin(x)/x\n",
    "def integrand(x):\n",
    "    if isinstance(x,torch.Tensor):\n",
    "        return torch.sin(x)/x\n",
    "    else:\n",
    "        return np.sin(x)/x\n",
    "        \n",
    "def integral(xmin,xmax):\n",
    "    result,_ = quad(integrand,xmin,xmax)\n",
    "    return result"
   ]
  },
  {
   "cell_type": "markdown",
   "id": "2d8304e4-2e4c-41b9-8b27-7ab8f6d643c3",
   "metadata": {},
   "source": [
    "## Constructing the network"
   ]
  },
  {
   "cell_type": "code",
   "execution_count": 99,
   "id": "2864d24a-f126-4e88-bacf-7928277bb384",
   "metadata": {},
   "outputs": [],
   "source": [
    "def x_batcher(xmin,xmax,N):\n",
    "    # Prepares a batch of x values in the [xmin,xmax] interval and the corresponding values of the integrand\n",
    "\n",
    "    x_batch = xmin + (xmax-xmin)*torch.rand(N,1,requires_grad=True)\n",
    "    y_batch = integrand(x_batch)\n",
    "    return x_batch, y_batch\n",
    "\n",
    "class NNIntegrate(nn.Module):\n",
    "    # NN for the integration\n",
    "    def __init__(self, hidden_dim, hidden_size, activation):\n",
    "        '''\n",
    "        hidden_dim: int\n",
    "            The dimension of the hidden layer(s)\n",
    "        hidden_size: int\n",
    "            The number of hidden layers\n",
    "        activation: nn Class\n",
    "            Activation function class from torch.nn\n",
    "        '''\n",
    "        super().__init__()\n",
    "\n",
    "        layers = []\n",
    "        layers.append(nn.Linear(1,hidden_dim))\n",
    "        layers.append(activation)\n",
    "\n",
    "        for i in range(hidden_size):\n",
    "            layers.append(nn.Linear(hidden_dim,hidden_dim))\n",
    "            layers.append(activation)\n",
    "\n",
    "        layers.append(nn.Linear(hidden_dim,1))\n",
    "\n",
    "        self.network = nn.Sequential(*layers)\n",
    "    \n",
    "    def forward(self, x):\n",
    "        \n",
    "        return self.network(x)\n",
    "        "
   ]
  },
  {
   "cell_type": "markdown",
   "id": "dd895beb-441f-4915-9806-3f070f9f9b2b",
   "metadata": {},
   "source": [
    "## Training the model"
   ]
  },
  {
   "cell_type": "code",
   "execution_count": 100,
   "id": "3079f52f-2eee-4053-9e69-1dd2504e60e3",
   "metadata": {},
   "outputs": [
    {
     "name": "stdout",
     "output_type": "stream",
     "text": [
      "Epoch 0/2000, Loss: 0.15558595955371857, lr: 0.01\n",
      "Epoch 200/2000, Loss: 0.0013295502867549658, lr: 0.008\n",
      "Epoch 400/2000, Loss: 0.0004958291538059711, lr: 0.0064\n",
      "Epoch 600/2000, Loss: 2.874312940548407e-06, lr: 0.00512\n",
      "Epoch 800/2000, Loss: 5.626191068586195e-07, lr: 0.004096000000000001\n",
      "Epoch 1000/2000, Loss: 3.1048031701175205e-07, lr: 0.0032768000000000007\n",
      "Epoch 1200/2000, Loss: 2.3345620547843282e-07, lr: 0.002621440000000001\n",
      "Epoch 1400/2000, Loss: 1.9791059457929805e-07, lr: 0.002097152000000001\n",
      "Epoch 1600/2000, Loss: 1.7617010428239155e-07, lr: 0.001677721600000001\n",
      "Epoch 1800/2000, Loss: 1.6076749886906327e-07, lr: 0.0013421772800000008\n",
      "\n",
      "Training time: 2.2081186771392822 seconds\n"
     ]
    }
   ],
   "source": [
    "# Hyperparameters\n",
    "hidden_dim = 16 # dimension of the hidden layer\n",
    "hidden_size = 1  # Number of hidden layers\n",
    "\n",
    "xmin = 0.0\n",
    "xmax = 10.0\n",
    "N_points = 100\n",
    "\n",
    "learning_rate = 0.01\n",
    "num_epochs = 2000\n",
    "\n",
    "x_batch, y_batch = x_batcher(xmin,xmax,N_points)\n",
    "\n",
    "# Instantiate the model, define the loss function, optimizer and scheduler\n",
    "model = NNIntegrate(hidden_dim,hidden_size,nn.Tanh())\n",
    "criterion = nn.MSELoss()\n",
    "optimizer = torch.optim.Adam(model.parameters(), lr=learning_rate)\n",
    "scheduler = torch.optim.lr_scheduler.StepLR(optimizer, step_size=200, gamma=0.8)\n",
    "\n",
    "loss_arr = []\n",
    "model.train()\n",
    "\n",
    "start_time = time.time()\n",
    "\n",
    "# Training loop\n",
    "for epoch in range(num_epochs):\n",
    "    \n",
    "    prediction = model(x_batch)\n",
    "    output_deriv = torch.autograd.grad(prediction, x_batch, torch.ones_like(prediction),create_graph=True)[0] # derivative\n",
    "    loss = criterion(output_deriv,y_batch)\n",
    "    \n",
    "    optimizer.zero_grad()\n",
    "    loss.backward(retain_graph=True) # since the graph is already created\n",
    "    optimizer.step()\n",
    "    scheduler.step()\n",
    "    loss_arr.append(loss.detach().numpy())\n",
    "\n",
    "    if epoch % (num_epochs // 10) == 0:\n",
    "        print(f'Epoch {epoch}/{num_epochs}, Loss: {loss.item()}, lr: {optimizer.param_groups[0][\"lr\"]}')\n",
    "\n",
    "print()\n",
    "end_time = time.time()\n",
    "\n",
    "train_time = end_time - start_time\n",
    "print(f\"Training time: {train_time} seconds\")"
   ]
  },
  {
   "cell_type": "markdown",
   "id": "207b8b5f-473f-42f1-ba6b-729a79a78b22",
   "metadata": {},
   "source": [
    "Plot the evolution of loss function"
   ]
  },
  {
   "cell_type": "code",
   "execution_count": 101,
   "id": "27c92077-e142-481b-95d7-a4cbec8d4e95",
   "metadata": {},
   "outputs": [
    {
     "data": {
      "image/png": "[encoded data removed]",
      "text/plain": [
       "<Figure size 640x480 with 1 Axes>"
      ]
     },
     "metadata": {},
     "output_type": "display_data"
    }
   ],
   "source": [
    "plt.figure()\n",
    "plt.semilogy(range(num_epochs),loss_arr)\n",
    "plt.grid()\n",
    "plt.xlabel('epoch')\n",
    "plt.ylabel('loss')\n",
    "plt.show()"
   ]
  },
  {
   "cell_type": "markdown",
   "id": "5d34cdd3-b541-4a16-a56d-3072dd418d29",
   "metadata": {},
   "source": [
    "## Evaluate the model and compare the results"
   ]
  },
  {
   "cell_type": "code",
   "execution_count": 102,
   "id": "ea7a9d67-bd31-43ab-a34f-82053ec95c1e",
   "metadata": {},
   "outputs": [
    {
     "name": "stdout",
     "output_type": "stream",
     "text": [
      "NN result: 1.6657711267471313\n",
      "NI result: 1.6650400758296027\n",
      "NN timing: 0.0021915435791015625 s, NI timing: 0.0002243518829345703 s\n"
     ]
    }
   ],
   "source": [
    "# Should be within the limits in which the model was trained\n",
    "x_min = 0.0\n",
    "x_max = 9.0\n",
    "\n",
    "# Neural network (NN) result\n",
    "model.eval()\n",
    "start_time_NN = time.time()\n",
    "result_NN = (model(torch.tensor([x_max])) - model(torch.tensor([x_min]))).detach().numpy().item()\n",
    "end_time_NN = time.time()\n",
    "\n",
    "NN_time = end_time_NN - start_time_NN\n",
    "\n",
    "# Numerical integration (NI) result\n",
    "start_time_NI = time.time()\n",
    "result_NI = integral(x_min,x_max)\n",
    "end_time_NI = time.time()\n",
    "\n",
    "NI_time = end_time_NI - start_time_NI\n",
    "\n",
    "print(f\"NN result: {result_NN}\")\n",
    "print(f\"NI result: {result_NI}\")\n",
    "print(f\"NN timing: {NN_time} s, NI timing: {NI_time} s\")"
   ]
  },
  {
   "cell_type": "code",
   "execution_count": null,
   "id": "32b6bf0f-446d-459c-81fd-589d9e078502",
   "metadata": {},
   "outputs": [],
   "source": []
  }
 ],
 "metadata": {
  "kernelspec": {
   "display_name": "Python 3 (ipykernel)",
   "language": "python",
   "name": "python3"
  },
  "language_info": {
   "codemirror_mode": {
    "name": "ipython",
    "version": 3
   },
   "file_extension": ".py",
   "mimetype": "text/x-python",
   "name": "python",
   "nbconvert_exporter": "python",
   "pygments_lexer": "ipython3",
   "version": "3.10.12"
  }
 },
 "nbformat": 4,
 "nbformat_minor": 5
}
