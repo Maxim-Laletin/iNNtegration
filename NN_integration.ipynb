{
 "cells": [
  {
   "cell_type": "code",
   "execution_count": 1,
   "id": "775102f9-4992-4871-863f-fbc35543241f",
   "metadata": {},
   "outputs": [],
   "source": [
    "import torch\n",
    "import torch.nn as nn\n",
    "import numpy as np\n",
    "import matplotlib.pyplot as plt\n",
    "import time\n",
    "from scipy.integrate import quad\n",
    "import cProfile"
   ]
  },
  {
   "cell_type": "markdown",
   "id": "96039f59-5b23-44c5-9d12-4bdbefd7b06e",
   "metadata": {},
   "source": [
    "## Defining the integrand function and the integral function"
   ]
  },
  {
   "cell_type": "code",
   "execution_count": 2,
   "id": "69c941c5-8643-4b8b-ba11-0a27432cc2cf",
   "metadata": {},
   "outputs": [],
   "source": [
    "#integrand = lambda x: np.sin(x)/x\n",
    "def integrand(x):\n",
    "    if isinstance(x,torch.Tensor):\n",
    "        return torch.sin(x)/x\n",
    "    else:\n",
    "        return np.sin(x)/x\n",
    "        \n",
    "def integral(xmin,xmax):\n",
    "    result,_ = quad(integrand,xmin,xmax)\n",
    "    return result"
   ]
  },
  {
   "cell_type": "markdown",
   "id": "2d8304e4-2e4c-41b9-8b27-7ab8f6d643c3",
   "metadata": {},
   "source": [
    "## Constructing the network"
   ]
  },
  {
   "cell_type": "code",
   "execution_count": 3,
   "id": "2864d24a-f126-4e88-bacf-7928277bb384",
   "metadata": {},
   "outputs": [],
   "source": [
    "device = torch.device('cpu')\n",
    "\n",
    "def x_batcher(xmin,xmax,N):\n",
    "    # Prepares a batch of x values in the [xmin,xmax] interval and the corresponding values of the integrand\n",
    "\n",
    "    x_batch = xmin + (xmax-xmin)*torch.rand(N,1,requires_grad=True)\n",
    "    y_batch = integrand(x_batch)\n",
    "    return x_batch, y_batch\n",
    "\n",
    "class NNIntegrate(nn.Module):\n",
    "    # NN for the integration\n",
    "    def __init__(self, hidden_dim, hidden_size, activation):\n",
    "        '''\n",
    "        hidden_dim: int\n",
    "            The dimension of the hidden layer(s)\n",
    "        hidden_size: int\n",
    "            The number of hidden layers\n",
    "        activation: nn Class\n",
    "            Activation function class from torch.nn\n",
    "        '''\n",
    "        super().__init__()\n",
    "\n",
    "        layers = []\n",
    "        layers.append(nn.Linear(1,hidden_dim))\n",
    "        layers.append(activation)\n",
    "\n",
    "        for _ in range(hidden_size):\n",
    "            layers.append(nn.Linear(hidden_dim,hidden_dim,dtype))\n",
    "            layers.append(activation)\n",
    "\n",
    "        layers.append(nn.Linear(hidden_dim,1))\n",
    "\n",
    "        self.network = nn.Sequential(*layers)\n",
    "    \n",
    "    def forward(self, x):\n",
    "        \n",
    "        return self.network(x)\n",
    "        "
   ]
  },
  {
   "cell_type": "markdown",
   "id": "dd895beb-441f-4915-9806-3f070f9f9b2b",
   "metadata": {},
   "source": [
    "## Training the model"
   ]
  },
  {
   "cell_type": "code",
   "execution_count": 4,
   "id": "3079f52f-2eee-4053-9e69-1dd2504e60e3",
   "metadata": {},
   "outputs": [
    {
     "name": "stdout",
     "output_type": "stream",
     "text": [
      "Epoch 0/3000, Loss: 0.18748511373996735, lr: 0.01\n",
      "Epoch 300/3000, Loss: 0.0034134730231016874, lr: 0.0095\n",
      "Epoch 600/3000, Loss: 0.002943389117717743, lr: 0.00857375\n",
      "Epoch 900/3000, Loss: 0.0007585803396068513, lr: 0.0081450625\n",
      "Epoch 1200/3000, Loss: 0.0004307872732169926, lr: 0.007350918906249998\n",
      "Epoch 1500/3000, Loss: 0.0003461273736320436, lr: 0.006983372960937498\n",
      "Epoch 1800/3000, Loss: 0.0002926711458712816, lr: 0.006302494097246091\n",
      "Epoch 2100/3000, Loss: 0.00021679165365640074, lr: 0.005987369392383786\n",
      "Epoch 2400/3000, Loss: 4.827978409593925e-05, lr: 0.005403600876626367\n",
      "Epoch 2700/3000, Loss: 2.3453603716916405e-05, lr: 0.005133420832795048\n",
      "\n",
      "Training time: 1.8508222103118896 seconds\n"
     ]
    }
   ],
   "source": [
    "# Hyperparameters\n",
    "hidden_dim = 10 # dimension of the hidden layer\n",
    "hidden_size = 0  # Number of hidden layers\n",
    "\n",
    "xmin = 0.0\n",
    "xmax = 10.0\n",
    "N_points = 1000\n",
    "\n",
    "learning_rate = 0.01\n",
    "decay_rate = 0.95\n",
    "st_size = 200\n",
    "num_epochs = 3000\n",
    "\n",
    "x_batch, y_batch = x_batcher(xmin,xmax,N_points)\n",
    "\n",
    "# Instantiate the model, define the loss function, optimizer and scheduler\n",
    "model = NNIntegrate(hidden_dim,hidden_size,nn.Tanh())\n",
    "criterion = nn.MSELoss()\n",
    "optimizer = torch.optim.Adam(model.parameters(), lr=learning_rate)\n",
    "scheduler = torch.optim.lr_scheduler.StepLR(optimizer, step_size=st_size, gamma=decay_rate)\n",
    "\n",
    "loss_arr = []\n",
    "model.train()\n",
    "\n",
    "start_time = time.time()\n",
    "\n",
    "# Training loop\n",
    "for epoch in range(num_epochs):\n",
    "    \n",
    "    prediction = model(x_batch)\n",
    "    output_deriv = torch.autograd.grad(prediction, x_batch, torch.ones_like(prediction),create_graph=True)[0] # derivative\n",
    "    loss = criterion(output_deriv,y_batch)\n",
    "    \n",
    "    optimizer.zero_grad()\n",
    "    loss.backward(retain_graph=True) # since the graph is already created\n",
    "    optimizer.step()\n",
    "    scheduler.step()\n",
    "    loss_arr.append(loss.detach().numpy())\n",
    "\n",
    "    if epoch % (num_epochs // 10) == 0:\n",
    "        print(f'Epoch {epoch}/{num_epochs}, Loss: {loss.item()}, lr: {optimizer.param_groups[0][\"lr\"]}')\n",
    "\n",
    "print()\n",
    "end_time = time.time()\n",
    "\n",
    "train_time = end_time - start_time\n",
    "print(f\"Training time: {train_time} seconds\")"
   ]
  },
  {
   "cell_type": "markdown",
   "id": "207b8b5f-473f-42f1-ba6b-729a79a78b22",
   "metadata": {},
   "source": [
    "Plot the evolution of loss"
   ]
  },
  {
   "cell_type": "code",
   "execution_count": 5,
   "id": "27c92077-e142-481b-95d7-a4cbec8d4e95",
   "metadata": {},
   "outputs": [
    {
     "data": {
      "image/png": "[encoded data removed]",
      "text/plain": [
       "<Figure size 640x480 with 1 Axes>"
      ]
     },
     "metadata": {},
     "output_type": "display_data"
    }
   ],
   "source": [
    "plt.figure()\n",
    "plt.semilogy(range(num_epochs),loss_arr)\n",
    "plt.grid()\n",
    "plt.xlabel('epoch')\n",
    "plt.ylabel('loss')\n",
    "plt.show()"
   ]
  },
  {
   "cell_type": "markdown",
   "id": "5d34cdd3-b541-4a16-a56d-3072dd418d29",
   "metadata": {},
   "source": [
    "## Evaluate the model and compare the results"
   ]
  },
  {
   "cell_type": "code",
   "execution_count": 6,
   "id": "ea7a9d67-bd31-43ab-a34f-82053ec95c1e",
   "metadata": {},
   "outputs": [
    {
     "name": "stdout",
     "output_type": "stream",
     "text": [
      "NN result: 1.6658122539520264\n",
      "NI result: 1.6650400758296027\n",
      "NN timing: 8.04443359375e-05 s, NI timing: 1.904439926147461e-05 s\n"
     ]
    }
   ],
   "source": [
    "# Should be within the limits in which the model was trained\n",
    "x_min = 0.0\n",
    "x_max = 9.0\n",
    "\n",
    "# Neural network (NN) result\n",
    "model.eval()\n",
    "result_NN = (model(torch.tensor([x_max],dtype=torch.float,requires_grad=False)) - model(torch.tensor([x_min],dtype=torch.float,requires_grad=False))).detach().numpy().item()\n",
    "\n",
    "# Numerical integration \n",
    "result_NI = integral(x_min,x_max)\n",
    "\n",
    "print(f\"NN result: {result_NN}\")\n",
    "print(f\"NI result: {result_NI}\")\n",
    "\n",
    "# Number of iterations to run the time test\n",
    "N_test_points = 1000\n",
    "\n",
    "start_time_NN = time.time()\n",
    "\n",
    "# Run the calculation N_test_points times to determine the average CPU time\n",
    "for i in range(N_test_points):\n",
    "    result_NN = (model(torch.tensor([x_max])) - model(torch.tensor([x_min]))).detach().numpy().item()\n",
    "\n",
    "end_time_NN = time.time()\n",
    "\n",
    "# Average time\n",
    "NN_time = (end_time_NN - start_time_NN)/N_test_points\n",
    "\n",
    "# Do the same for the standard quadrature\n",
    "start_time_NI = time.time()\n",
    "\n",
    "for i in range(N_test_points):\n",
    "    result_NI = integral(x_min,x_max)\n",
    "\n",
    "end_time_NI = time.time()\n",
    "\n",
    "NI_time = (end_time_NI - start_time_NI)/N_test_points\n",
    "\n",
    "print(f\"NN timing: {NN_time} s, NI timing: {NI_time} s\")"
   ]
  },
  {
   "cell_type": "code",
   "execution_count": null,
   "id": "af2fc91e-d0ef-4125-bae7-44e078f00a71",
   "metadata": {},
   "outputs": [],
   "source": [
    "#cProfile.run('model(torch.tensor([x_min]))')"
   ]
  },
  {
   "cell_type": "markdown",
   "id": "2d86087c-c8b8-443e-86a9-f8305d461d6c",
   "metadata": {},
   "source": [
    "As expected, the classical numerical integration outperforms the PyTorch network in speed for simple functions. Let's try to create a neural network using NumPy methods to reduce the CPU time"
   ]
  },
  {
   "cell_type": "markdown",
   "id": "7d0cb7de-5811-434a-a8e5-16a7b894218a",
   "metadata": {},
   "source": [
    "## Constructing the neural network with the parameters established by learning in NumPy"
   ]
  },
  {
   "cell_type": "code",
   "execution_count": 8,
   "id": "865e7cdf-bb58-4f92-a26e-a36b1a715114",
   "metadata": {},
   "outputs": [],
   "source": [
    "state_dict = model.state_dict() # a dictionary that contains model parameters"
   ]
  },
  {
   "cell_type": "markdown",
   "id": "e5442702-7073-44d5-ba35-0beecdff5bec",
   "metadata": {},
   "source": [
    "Print the network weights and biases"
   ]
  },
  {
   "cell_type": "code",
   "execution_count": 9,
   "id": "5e586726-a979-421f-8154-e4f61c404930",
   "metadata": {},
   "outputs": [
    {
     "name": "stdout",
     "output_type": "stream",
     "text": [
      "network.0.weight:\n",
      "tensor([[ 0.9646],\n",
      "        [-0.7336],\n",
      "        [ 0.6656],\n",
      "        [-0.6663],\n",
      "        [ 0.6400],\n",
      "        [-0.5782],\n",
      "        [-1.0056],\n",
      "        [-0.6125],\n",
      "        [ 0.2933],\n",
      "        [-0.3574]])\n",
      "\n",
      "network.0.bias:\n",
      "tensor([ 0.1729, -0.0404, -4.1210, -1.1642, -0.4872,  4.5472, -0.1731,  0.8907,\n",
      "        -1.7957, -0.3535])\n",
      "\n",
      "network.2.weight:\n",
      "tensor([[ 0.1971, -0.0915,  0.4584, -0.0619,  0.5731, -0.7210, -0.2826, -0.6392,\n",
      "         -1.7224, -0.0410]])\n",
      "\n",
      "network.2.bias:\n",
      "tensor([0.1070])\n",
      "\n"
     ]
    }
   ],
   "source": [
    "for name, param in state_dict.items():\n",
    "    print(f\"{name}:\\n{param}\\n\")"
   ]
  },
  {
   "cell_type": "markdown",
   "id": "b34e720a-8e0d-4eb7-87cb-0e8508dd80c5",
   "metadata": {},
   "source": [
    "Extracting the network parameters (by hand for the given network architecture)"
   ]
  },
  {
   "cell_type": "code",
   "execution_count": 32,
   "id": "f910a1ab-7a2a-41de-9248-714616430464",
   "metadata": {},
   "outputs": [],
   "source": [
    "#fc1_weight = state_dict['network.0.weight'].numpy()\n",
    "#fc2_weight = state_dict['network.2.weight'].numpy()\n",
    "#fc1_bias = state_dict['network.0.bias'].numpy()\n",
    "#fc2_bias = state_dict['network.2.bias'].numpy()"
   ]
  },
  {
   "cell_type": "markdown",
   "id": "527873e9-6abe-4b77-a70f-c0926167d41f",
   "metadata": {},
   "source": [
    "Construct the NumPy network"
   ]
  },
  {
   "cell_type": "code",
   "execution_count": 60,
   "id": "e08607eb-c04b-4c29-a311-8197eda5cabd",
   "metadata": {},
   "outputs": [],
   "source": [
    "# Define activation function\n",
    "def tanh(x):\n",
    "    return np.tanh(x)\n",
    "\n",
    "# Neural network based on NumPy\n",
    "class NumpyNetwork:\n",
    "\n",
    "    def __init__(self,state_dict,activation):\n",
    "        '''\n",
    "        state_dict: dict\n",
    "            Dictionary with weights and biases of a PyTorch network\n",
    "        activation: Callable[[float],float]\n",
    "            Activation function\n",
    "        '''\n",
    "        self.activation = activation \n",
    "        self.num_layers = len(state_dict) // 2 # number of layers in the network\n",
    "        self.weights = []\n",
    "        self.biases = []\n",
    "\n",
    "        # Extract the weights and biases from the dictionary and store them in the corresponding lists\n",
    "        for i,param in enumerate(state_dict.values()):\n",
    "            if i % 2 == 0:\n",
    "                self.weights.append(param.numpy())\n",
    "            else:\n",
    "                self.biases.append(param.numpy())\n",
    "\n",
    "    # Define forward pass using NumPy\n",
    "    def forward(self,x):\n",
    "        # Input to first hidden later\n",
    "        hidden = self.activation(np.dot(x, self.weights[0].T) + self.biases[0])\n",
    "        # Iterate through all the hidden layers\n",
    "        for i in range(1,self.num_layers-1):\n",
    "            hidden = self.activation(np.dot(hidden, self.weights[i].T) + self.biases[i])\n",
    "        # Hidden to output layer\n",
    "        output = np.dot(hidden, self.weights[-1].T) + self.biases[-1]\n",
    "        return output\n",
    "\n",
    "    def evaluate(self,x):\n",
    "\n",
    "        return self.forward(x)\n",
    "        "
   ]
  },
  {
   "cell_type": "markdown",
   "id": "0521a34e-6513-4f45-b1b9-59f4a1b0263b",
   "metadata": {},
   "source": [
    "## Evaluate the NumPy NN and compare the results"
   ]
  },
  {
   "cell_type": "code",
   "execution_count": 62,
   "id": "c891c42a-1748-48b8-86d0-d63b5c4b50fd",
   "metadata": {},
   "outputs": [
    {
     "name": "stdout",
     "output_type": "stream",
     "text": [
      "NNnum result: [[1.6658124]]\n",
      "NI result: 1.6650400758296027\n",
      "NNnum timing: 1.3818740844726563e-05 s\n",
      "NI timing: 1.904439926147461e-05 s\n"
     ]
    }
   ],
   "source": [
    "numpy_model = NumpyNetwork(state_dict,tanh)\n",
    "\n",
    "start_time_NNnum = time.time()\n",
    "\n",
    "for i in range(N_test_points):\n",
    "    result_NNnum = numpy_model.evaluate(x_max) - numpy_model.evaluate(x_min)\n",
    "\n",
    "end_time_NNnum = time.time()\n",
    "\n",
    "NNnum_time = (end_time_NNnum - start_time_NNnum)/N_test_points\n",
    "\n",
    "print(f\"NNnum result: {result_NNnum}\")\n",
    "print(f\"NI result: {result_NI}\")\n",
    "print(f\"NNnum timing: {NNnum_time} s\")\n",
    "print(f\"NI timing: {NI_time} s\")"
   ]
  },
  {
   "cell_type": "markdown",
   "id": "64366924-cf19-40aa-9a27-980eb254f590",
   "metadata": {},
   "source": [
    "For the given integrand function, boundaries and precision the NumPy NN for integration slightly outperforms the standard quadrature in terms of speed"
   ]
  }
 ],
 "metadata": {
  "kernelspec": {
   "display_name": "Python 3 (ipykernel)",
   "language": "python",
   "name": "python3"
  },
  "language_info": {
   "codemirror_mode": {
    "name": "ipython",
    "version": 3
   },
   "file_extension": ".py",
   "mimetype": "text/x-python",
   "name": "python",
   "nbconvert_exporter": "python",
   "pygments_lexer": "ipython3",
   "version": "3.10.12"
  }
 },
 "nbformat": 4,
 "nbformat_minor": 5
}
