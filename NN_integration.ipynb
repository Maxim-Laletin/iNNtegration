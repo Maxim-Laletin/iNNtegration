{
 "cells": [
  {
   "cell_type": "code",
   "execution_count": 3,
   "id": "775102f9-4992-4871-863f-fbc35543241f",
   "metadata": {},
   "outputs": [],
   "source": [
    "import torch\n",
    "import torch.nn as nn\n",
    "import numpy as np"
   ]
  },
  {
   "cell_type": "code",
   "execution_count": 4,
   "id": "69c941c5-8643-4b8b-ba11-0a27432cc2cf",
   "metadata": {},
   "outputs": [],
   "source": [
    "integrand = lambda x: x**2"
   ]
  },
  {
   "cell_type": "code",
   "execution_count": null,
   "id": "2864d24a-f126-4e88-bacf-7928277bb384",
   "metadata": {},
   "outputs": [],
   "source": [
    "# Normalization (scaling) the signal values\n",
    "#scaler = MinMaxScaler(feature_range=(-1, 1))\n",
    "#signals = scaler.fit_transform(signals.reshape(-1, 1))\n",
    "\n",
    "# Hyperparameters\n",
    "input_dim = 1  # The number of features\n",
    "hidden_dim = 20 # dimension of the hidden layer\n",
    "hidden_size = 2  # Number of hidden layers\n",
    "output_dim = 1  # Output dimension\n",
    "\n",
    "learning_rate = 0.01\n",
    "num_epochs = 2000\n",
    "batch_size = 100\n",
    "\n",
    "sequences = torch.Tensor(times).view(-1,1)\n",
    "\n",
    "\n",
    "class NNIntegrate(nn.Module):\n",
    "    def __init__(self, input_dim, hidden_size, output_dim, activations = torch.nn.Tanh()):\n",
    "        super().__init__()\n",
    "\n",
    "        layers = []\n",
    "        layers.append(torch.nn.Linear(input_dim, hidden_dim))\n",
    "        layers.append(activations)\n",
    "        for i in range(hidden_size):\n",
    "            layers.append(torch.nn.Linear(hidden_dim, hidden_dim))\n",
    "            layers.append(activations)\n",
    "        layers.append(torch.nn.Linear(hidden_dim, output_dim))\n",
    "        \n",
    "\n",
    "        self.sequential = torch.nn.Sequential(*layers)\n",
    "        \n",
    "    def forward(self, x):\n",
    "        \n",
    "        return self.sequential(x)\n",
    "\n",
    "\n",
    "# Instantiate the model, define the loss function and the optimizer\n",
    "model = NNIntegrate(input_size, hidden_size, output_size)\n",
    "criterion = nn.MSELoss()\n",
    "optimizer = torch.optim.Adam(model.parameters(), lr=learning_rate)\n",
    "scheduler = torch.optim.lr_scheduler.StepLR(optimizer, step_size=200, gamma=1.0)\n",
    "\n",
    "# Training loop\n",
    "for epoch in range(num_epochs):\n",
    "    model.train()\n",
    "    outputs = model(batch_inputs)\n",
    "    optimizer.zero_grad()\n",
    "    loss = criterion(torch.autograd.grad(), integrand(batch_inputs))\n",
    "    loss.backward()\n",
    "    optimizer.step()\n",
    "    scheduler.step()\n",
    "\n",
    "    if epoch % (num_epochs // 10) == 0:\n",
    "        print(f'Epoch {epoch}/{num_epochs}, Loss: {loss.item()}, lr: {optimizer.param_groups[0][\"lr\"]}')"
   ]
  },
  {
   "cell_type": "code",
   "execution_count": null,
   "id": "c82b357a-c3f4-4d1d-9fc8-b7e997e43743",
   "metadata": {},
   "outputs": [],
   "source": [
    "# Testing the model\n",
    "model.eval()\n",
    "#test_outputs = model(test_sequences)\n",
    "test_outputs = model(sequences)\n",
    "test_loss = criterion(test_outputs, targets)\n",
    "print(f'Test Loss: {test_loss.item()}')"
   ]
  }
 ],
 "metadata": {
  "kernelspec": {
   "display_name": "Python 3 (ipykernel)",
   "language": "python",
   "name": "python3"
  },
  "language_info": {
   "codemirror_mode": {
    "name": "ipython",
    "version": 3
   },
   "file_extension": ".py",
   "mimetype": "text/x-python",
   "name": "python",
   "nbconvert_exporter": "python",
   "pygments_lexer": "ipython3",
   "version": "3.10.12"
  }
 },
 "nbformat": 4,
 "nbformat_minor": 5
}
